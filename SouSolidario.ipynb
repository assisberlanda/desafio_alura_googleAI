{
  "nbformat": 4,
  "nbformat_minor": 0,
  "metadata": {
    "colab": {
      "provenance": [],
      "authorship_tag": "ABX9TyN5xkp7hu/t+O01fZHpJO1g",
      "include_colab_link": true
    },
    "kernelspec": {
      "name": "python3",
      "display_name": "Python 3"
    },
    "language_info": {
      "name": "python"
    }
  },
  "cells": [
    {
      "cell_type": "markdown",
      "metadata": {
        "id": "view-in-github",
        "colab_type": "text"
      },
      "source": [
        "<a href=\"https://colab.research.google.com/github/assisberlanda/desafio_alura_googleAI/blob/main/SouSolidario.ipynb\" target=\"_parent\"><img src=\"https://colab.research.google.com/assets/colab-badge.svg\" alt=\"Open In Colab\"/></a>"
      ]
    },
    {
      "cell_type": "code",
      "execution_count": 1,
      "metadata": {
        "id": "0uW_EmlLA1FG"
      },
      "outputs": [],
      "source": [
        "#Importar google.generativeai e API KEY.\n",
        "import google.generativeai as genai\n",
        "from google.colab import userdata\n",
        "GOOGLE_API_KEY=userdata.get('GOOGLE_API_KEY')\n",
        "genai.configure(api_key=GOOGLE_API_KEY)"
      ]
    },
    {
      "cell_type": "code",
      "source": [
        "#Função para o texto inicial.\n",
        "def centralizar(texto, largura, preenchimento=' '):\n",
        "    texto_centralidado = texto.center(largura, preenchimento)\n",
        "    return texto_centralidado"
      ],
      "metadata": {
        "id": "x6ODaCQ0BS9i"
      },
      "execution_count": 2,
      "outputs": []
    },
    {
      "cell_type": "code",
      "source": [
        "#Função para cadastrar doação.\n",
        "def cadastrar_doacao():\n",
        "    nome = input(\"Informe seu nome: \")\n",
        "    email = input(\"Informe seu email: \")\n",
        "    endereco = input(\"Informe o endereço para coleta: \")\n",
        "    cidade = input(\"Informe a cidade: \")\n",
        "\n",
        "    itens = []\n",
        "    while True:\n",
        "        item = input(\"Informe o item a ser doado (ou digite 'fim' para encerrar): \")\n",
        "        if item.lower() == 'fim':\n",
        "            break\n",
        "        quantidade = input(\"Informe a quantidade: \")\n",
        "        itens.append((item, quantidade))\n",
        "\n",
        "    doacoes.append({'nome': nome, 'email': email, 'endereco': endereco, 'cidade': cidade, 'itens': itens})\n",
        "\n",
        "    print(linha2)\n",
        "    print(f'{texto_centralizado3}\\n{texto_centralizado4}')\n",
        "    print(linha)\n"
      ],
      "metadata": {
        "id": "ZV66g1XABjY3"
      },
      "execution_count": 53,
      "outputs": []
    },
    {
      "cell_type": "code",
      "source": [
        "#Função para gerar relatório.\n",
        "def gerar_relatorio():\n",
        "    if not doacoes:\n",
        "        print(linha2)\n",
        "        print(\"\\n\\n\\tAinda não há doações cadastradas!\")\n",
        "        print(linha)\n",
        "        return\n",
        "\n",
        "    doacoes_por_cidade = {}\n",
        "    for doacao in doacoes:\n",
        "        cidade = doacao['cidade']\n",
        "        if cidade not in doacoes_por_cidade:\n",
        "            doacoes_por_cidade[cidade] = []\n",
        "        doacoes_por_cidade[cidade].append(doacao)\n",
        "\n",
        "    for cidade, doacoes_cidade in doacoes_por_cidade.items():\n",
        "        print(linha2)\n",
        "        print(f\"--- Doações em {cidade} ---\")\n",
        "        for doacao in doacoes_cidade:\n",
        "            print(f\"Nome: {doacao['nome']}\")\n",
        "            print(f\"Email: {doacao['email']}\")\n",
        "            print(f\"Endereço: {doacao['endereco']}\")\n",
        "            print(\"Itens:\")\n",
        "            for item, quantidade in doacao['itens']:\n",
        "                print(f\"  - {item}: {quantidade}\")\n",
        "            print('='*100)"
      ],
      "metadata": {
        "id": "i6PtlqgSByUY"
      },
      "execution_count": 4,
      "outputs": []
    },
    {
      "cell_type": "code",
      "source": [
        "#Função para continuar conversa com chatbot.\n",
        "def saiba_mais():\n",
        "    model = genai.GenerativeModel(model_name='gemini-1.0-pro',\n",
        "                                  generation_config=generation_config)\n",
        "\n",
        "    while True:\n",
        "        duvida = input('\\nO que você quer saber a respeito da inchente? (digite \"fim\" para encerrar): \\n\\n')\n",
        "        print(linha)\n",
        "        if duvida.lower() == 'fim':\n",
        "            break\n",
        "        else:\n",
        "            resposta = model.generate_content('Sobre as vítimas da Inchente do Rio Grande do sul.  ' + duvida)\n",
        "            print(f'\\n {resposta.text}')\n",
        "            print(linha)"
      ],
      "metadata": {
        "id": "_jqLHAkGB7Xp"
      },
      "execution_count": 36,
      "outputs": []
    },
    {
      "cell_type": "code",
      "source": [
        "#Textos e linhas iniciais.\n",
        "def textos():\n",
        "  texto1 = 'Bem vindo Programa de Doação - SouSolidario'\n",
        "  texto2 = 'Apoio às vítimas de inchente do Rio grande do Sul'\n",
        "  texto3 = 'Doação cadastrada com sucesso! Em breve entraremos em contato.\\nUm protocolo de doação será enviado para seu email. Juntos, podemos fazer a diferença!'\n",
        "  texto4 = 'Muito obrigado por sua generosidade! Em nome das famílias afetadas, agradecemos sua contribuição!'\n",
        "  linha = centralizar('='*120, 120)\n",
        "  linha2 = centralizar('-'*120,120)\n",
        "  texto_centralizado1 = centralizar(texto1, 120)\n",
        "  texto_centralizado2 = centralizar(texto2, 120)\n",
        "  texto_centralizado3 = centralizar(texto3, 120)\n",
        "  texto_centralizado4 = centralizar(texto4, 120)\n",
        "\n",
        "  print(f'\\n{linha}\\n{texto_centralizado1}\\n{texto_centralizado2}\\n{linha2}')"
      ],
      "metadata": {
        "id": "seobstrACVvy"
      },
      "execution_count": 52,
      "outputs": []
    },
    {
      "cell_type": "code",
      "source": [
        "#Configuração da GenerativeModel.\n",
        "generation_config = {\n",
        "  \"candidate_count\": 1,\n",
        "  \"temperature\": 0.5,\n",
        "}\n",
        "\n",
        "model = genai.GenerativeModel(model_name='gemini-1.0-pro',\n",
        "                                  generation_config=generation_config)"
      ],
      "metadata": {
        "id": "e_gTDZVZCZra"
      },
      "execution_count": 6,
      "outputs": []
    },
    {
      "cell_type": "code",
      "source": [
        "#Chatbot mostra uma lista com as 10 principais coisas que estão precisando.\n",
        "response = model.generate_content('\\nliste 10 itens que as vítimas da inchente do Rio Grande do Sul mais estão precisando:\\n')\n",
        "print('\\n\\tOlá! Seja bem-vindo ao SouSolidario. Atualmente, as 10 principais necessidades da vítimas são:\\n')\n",
        "print(linha)\n",
        "print(response.text)\n",
        "print(linha2)\n",
        "print('\\n\\tBaseado nessa lista, o que você pode doar e qual a quantidade? ')\n"
      ],
      "metadata": {
        "id": "FCxQHLwPCeiP"
      },
      "execution_count": null,
      "outputs": []
    },
    {
      "cell_type": "code",
      "source": [
        "# Inicializa listas vazias para armazenar informações de doações\n",
        "doacoes = []\n",
        "\n",
        "#Loop para o Menu\n",
        "while True:\n",
        "    textos()\n",
        "    print(\"\\n\\tMENU:\\n\")\n",
        "    print(\"\\t1. Cadastrar Doação\")\n",
        "    print(\"\\t2. Gerar Relatório\")\n",
        "    print(\"\\t3. Saiba mais sobre a tragédia\")\n",
        "    print(\"\\t4. Sair\")\n",
        "    print(linha2)\n",
        "    opcao = input(\"\\n\\tEscolha uma opção: \")\n",
        "\n",
        "    if opcao == '1':\n",
        "        cadastrar_doacao()\n",
        "    elif opcao == '2':\n",
        "        gerar_relatorio()\n",
        "    elif opcao == '3':\n",
        "        saiba_mais()\n",
        "    elif opcao == '4':\n",
        "        break\n",
        "    else:\n",
        "        print(linha2)\n",
        "        print(\"\\n\\n\\tOpção inválida. Tente novamente!\")\n",
        "        print(linha)"
      ],
      "metadata": {
        "id": "nk0ei0F8Cwe4"
      },
      "execution_count": null,
      "outputs": []
    }
  ]
}